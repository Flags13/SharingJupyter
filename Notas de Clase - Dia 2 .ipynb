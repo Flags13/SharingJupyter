{
 "cells": [
  {
   "cell_type": "markdown",
   "metadata": {
    "deletable": true,
    "editable": true
   },
   "source": [
    "# Dia 2 \n",
    "\n",
    "## 1 - Generación de números pseudoaleatorios\n",
    "\n",
    "No existe simulación numérica totalmente correcta de números aleatorios mediante métodos matemáticos, pero dan muy buenos resultados\n",
    "\n",
    "En este caso usaremos la sección NUMPY.RANDOM para la generación de nuestros números aleatorios con ciertas distribuciones dadas.\n",
    "\n",
    "IMPORTANTE: ¡Siempre revisen la documentación de los comandos antes de utilizarlos!\n",
    "\n"
   ]
  },
  {
   "cell_type": "code",
   "execution_count": 1,
   "metadata": {
    "collapsed": true,
    "deletable": true,
    "editable": true
   },
   "outputs": [],
   "source": [
    "## Experimentos con numpy.random"
   ]
  },
  {
   "cell_type": "markdown",
   "metadata": {
    "deletable": true,
    "editable": true
   },
   "source": [
    "## 2 - Gráficas con Python\n",
    " \n",
    "Usamos la libreria matplotlib.pyplot, la cual es generalmente importada como \n",
    "\n",
    "import matplotlib.pyplot as plt\n",
    "\n",
    "### Gráficas importantes "
   ]
  },
  {
   "cell_type": "code",
   "execution_count": 3,
   "metadata": {
    "collapsed": false,
    "deletable": true,
    "editable": true
   },
   "outputs": [
    {
     "data": {
      "image/png": "[encoded data removed]",
      "text/plain": [
       "<Figure size 432x288 with 1 Axes>"
      ]
     },
     "metadata": {
      "needs_background": "light"
     },
     "output_type": "display_data"
    }
   ],
   "source": [
    "## Gráfica de una función \n",
    "\n",
    "import numpy as np \n",
    "import matplotlib.pyplot as plt\n",
    "\n",
    "x=np.linspace(-5,5,num=30)\n",
    "y=x**3-x**2+x\n",
    "\n",
    "plt.plot(x,y,'b-')\n",
    "plt.xlabel('Horas de trabajo')\n",
    "plt.ylabel('Tazas de café')\n",
    "plt.title('Necesidad de café')\n",
    "plt.show()\n",
    "\n"
   ]
  },
  {
   "cell_type": "code",
   "execution_count": 16,
   "metadata": {
    "collapsed": false,
    "deletable": true,
    "editable": true
   },
   "outputs": [
    {
     "data": {
      "image/png": "[encoded data removed]",
      "text/plain": [
       "<Figure size 432x288 with 1 Axes>"
      ]
     },
     "metadata": {
      "needs_background": "light"
     },
     "output_type": "display_data"
    }
   ],
   "source": [
    "x=np.random.randn(30000)\n",
    "\n",
    "plt.hist(x,50)\n",
    "plt.title('Histograma')\n",
    "plt.xlabel('x')\n",
    "plt.ylabel('y')\n",
    "plt.show()\n",
    "\n",
    "\n",
    "\n"
   ]
  },
  {
   "cell_type": "code",
   "execution_count": 13,
   "metadata": {
    "collapsed": false,
    "deletable": true,
    "editable": true
   },
   "outputs": [
    {
     "data": {
      "image/png": "[encoded data removed]",
      "text/plain": [
       "<Figure size 432x288 with 1 Axes>"
      ]
     },
     "metadata": {
      "needs_background": "light"
     },
     "output_type": "display_data"
    }
   ],
   "source": [
    "x=np.linspace(-5,5,num=30)\n",
    "y=np.random.randn(30)\n",
    "\n",
    "plt.scatter(x,y)\n",
    "plt.xlabel('Algo')\n",
    "plt.ylabel('Otro algo')\n",
    "plt.title('COSA')\n",
    "plt.show()"
   ]
  },
  {
   "cell_type": "markdown",
   "metadata": {
    "deletable": true,
    "editable": true
   },
   "source": [
    "## Ejercicio 1.1 - Tiro de una moneda\n",
    "\n",
    "Simular el tiro de una moneda típica mediante el uso de las herramientas de Python\n",
    "\n",
    "Imprimir la leyenda del resultado de nuestro experimento\n",
    "Dependiendo del resultado, asignar el valor a una variable VAR de 1 en caso de ser CARA y -1 si es CRUZ.\n",
    "\n",
    "### Solución propuesta - Algoritmo\n",
    "\n",
    "Borrar: Aquí ustedes pondrán su explicación detallada de la solución. Razonamiento y explicación del código (pueden agregar dibujos) \n",
    "\n",
    "### Comentarios sobre los resultados (análisis) \n",
    "\n",
    "Borrar: Sí bien el resultado es importante, nos pagan por analizar los datos: ¿Qué escenario nos presentan los datos? ¿Es bueno? \n"
   ]
  },
  {
   "cell_type": "code",
   "execution_count": 2,
   "metadata": {
    "collapsed": true,
    "deletable": true,
    "editable": true
   },
   "outputs": [],
   "source": [
    "## Código Ejercicio 1 - Con comentarios del funcionamiento del código "
   ]
  },
  {
   "cell_type": "markdown",
   "metadata": {
    "deletable": true,
    "editable": true
   },
   "source": [
    "## Ejercicio 2.1 - Múltiples lanzamientos de una moneda \n",
    "\n",
    "\n",
    "Simular N tiros de una moneda, donde cada uno de los tiros son independientes. Imprimir la cantidad de veces que se obtiene CARA, CRUZ y el cálculo de probabilidad para ambos eventos. Realizar el experimento para N=100, 1000, 10000, 10000.\n",
    "\n"
   ]
  },
  {
   "cell_type": "code",
   "execution_count": 3,
   "metadata": {
    "collapsed": true,
    "deletable": true,
    "editable": true
   },
   "outputs": [],
   "source": [
    "## Código Ejercicio 2.1 "
   ]
  },
  {
   "cell_type": "markdown",
   "metadata": {
    "deletable": true,
    "editable": true
   },
   "source": [
    "## Ejercicio 2.2 - Caminata aleatoria unidimensional\n",
    "\n",
    " - Se realizarán N pasos, cada uno dependiendo del resultado del tiro de una moneda\n",
    " - Si la moneda cae en CARA se da un paso positivo\n",
    " - Si la moneda cae en CRUZ se da un paso Negativo\n",
    "\n",
    "¿En que punto terminaré? Hagan múltiples intentos para $N=\\{100,1000, 1000, 100000\\}$ y presenten sus observaciones"
   ]
  },
  {
   "cell_type": "code",
   "execution_count": 4,
   "metadata": {
    "collapsed": true,
    "deletable": true,
    "editable": true
   },
   "outputs": [],
   "source": [
    "## Código Ejercicio 2.2 "
   ]
  },
  {
   "cell_type": "markdown",
   "metadata": {
    "deletable": true,
    "editable": true
   },
   "source": [
    "## Ejercicio 2.3 - Repetición del experimento\n",
    "\n",
    "Considerando la caminada aleatoria el ejercicio pasado, realizar la repetición del experimento $K$ veces. Al finalizar deben tener una colección de las distancias finales para cada una de las repeticiones del experimento.\n",
    "\n",
    " - Realizar para $K\\geq2000$ considerando $N>1000$\n",
    " \n",
    " - Imprimir los primeros 15 valores\n",
    " "
   ]
  },
  {
   "cell_type": "code",
   "execution_count": 5,
   "metadata": {
    "collapsed": true,
    "deletable": true,
    "editable": true
   },
   "outputs": [],
   "source": [
    "## Código Ejercicio 2.3 "
   ]
  },
  {
   "cell_type": "markdown",
   "metadata": {
    "deletable": true,
    "editable": true
   },
   "source": [
    "## Ejercicio 2.4 - Estadísticos básicos \n",
    "\n",
    "El ejercicio pasado, obtener e imprimir los valores\n",
    "\n",
    " - Media \n",
    " - Desviación estádar\n",
    " - Mediana \n",
    " - Rango \n",
    " - Valor máximo\n",
    " - Valor mínimo \n",
    "\n",
    "Realiza el experimento algunas veces y entrega comentarios. \n"
   ]
  },
  {
   "cell_type": "code",
   "execution_count": 6,
   "metadata": {
    "collapsed": true,
    "deletable": true,
    "editable": true
   },
   "outputs": [],
   "source": [
    "## Código Ejercicio 2.4 "
   ]
  },
  {
   "cell_type": "markdown",
   "metadata": {
    "deletable": true,
    "editable": true
   },
   "source": [
    "## Ejercicio 2.5 - Paradoja del cumpleaños\n",
    "\n",
    "Consideremos que tenemos un salón con n personas. Suponiendo que no existen años bisiestos, ¿cuál es la probabilidad de que al menos de dos personas compartan el cumpleaños?\n",
    "\n",
    "Obten una gráfica del valor de la probabilidad respecto al número de personas en el salón. "
   ]
  },
  {
   "cell_type": "markdown",
   "metadata": {
    "deletable": true,
    "editable": true
   },
   "source": [
    "## Probabilidad condicional "
   ]
  },
  {
   "cell_type": "code",
   "execution_count": null,
   "metadata": {
    "collapsed": true,
    "deletable": true,
    "editable": true
   },
   "outputs": [],
   "source": []
  }
 ],
 "metadata": {
  "kernelspec": {
   "display_name": "Python 3",
   "language": "python",
   "name": "python3"
  },
  "language_info": {
   "codemirror_mode": {
    "name": "ipython",
    "version": 3
   },
   "file_extension": ".py",
   "mimetype": "text/x-python",
   "name": "python",
   "nbconvert_exporter": "python",
   "pygments_lexer": "ipython3",
   "version": "3.5.2"
  }
 },
 "nbformat": 4,
 "nbformat_minor": 2
}
